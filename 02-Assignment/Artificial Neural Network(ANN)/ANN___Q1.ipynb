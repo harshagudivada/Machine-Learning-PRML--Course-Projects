{
  "nbformat": 4,
  "nbformat_minor": 0,
  "metadata": {
    "colab": {
      "name": "ANN | Q1.ipynb",
      "provenance": [],
      "collapsed_sections": [],
      "machine_shape": "hm"
    },
    "kernelspec": {
      "name": "python3",
      "display_name": "Python 3"
    }
  },
  "cells": [
    {
      "cell_type": "markdown",
      "metadata": {
        "id": "0MRC0e0KhQ0S"
      },
      "source": [
        "# ANN"
      ]
    },
    {
      "cell_type": "code",
      "metadata": {
        "colab": {
          "base_uri": "https://localhost:8080/"
        },
        "id": "HmB8Hs99woVm",
        "outputId": "810e2cf1-8d82-4d09-cda9-99760a768ec8"
      },
      "source": [
        "#mount google drive to be able to access the datasets\n",
        "from google.colab import drive\n",
        "drive.mount('/content/drive')"
      ],
      "execution_count": null,
      "outputs": [
        {
          "output_type": "stream",
          "name": "stdout",
          "text": [
            "Drive already mounted at /content/drive; to attempt to forcibly remount, call drive.mount(\"/content/drive\", force_remount=True).\n"
          ]
        }
      ]
    },
    {
      "cell_type": "markdown",
      "metadata": {
        "id": "LWd1UlMnhT2s"
      },
      "source": [
        "## Importing the libraries"
      ]
    },
    {
      "cell_type": "code",
      "metadata": {
        "id": "YvGPUQaHhXfL"
      },
      "source": [
        "#import libraries\n",
        "import numpy as np\n",
        "import matplotlib.pyplot as plt\n",
        "import pandas as pd\n",
        "from numpy import savetxt"
      ],
      "execution_count": null,
      "outputs": []
    },
    {
      "cell_type": "markdown",
      "metadata": {
        "id": "06pAhZL6hQJs"
      },
      "source": [
        "## Path for datasets"
      ]
    },
    {
      "cell_type": "code",
      "metadata": {
        "id": "cV7wOrqlhXge"
      },
      "source": [
        "path = '/content/drive/MyDrive/PRML/IITM/Question1/' #path where the datasets are stored"
      ],
      "execution_count": null,
      "outputs": []
    },
    {
      "cell_type": "markdown",
      "metadata": {
        "id": "K1VMqkGvhc3-"
      },
      "source": [
        "## Importing the dataset"
      ]
    },
    {
      "cell_type": "code",
      "metadata": {
        "id": "M52QDmyzhh9s"
      },
      "source": [
        "trainingDataSet1 = pd.read_csv(path+'Train_Dataset1.csv', header = None) #read the training data from the Train_Dataset1.csv of dataset 1\n",
        "X_train1 = trainingDataSet1.iloc[:, :-1].values #input feature is the first columns of our .csv file\n",
        "y_train1 = trainingDataSet1.iloc[:, -1:].values #output is taken from the last column of the dataset"
      ],
      "execution_count": null,
      "outputs": []
    },
    {
      "cell_type": "code",
      "metadata": {
        "id": "dQbQgzQB3Y0Q"
      },
      "source": [
        "trainingDataSet2 = pd.read_csv(path+'Train_Dataset2.csv', header = None) #read the training data from the Train_Dataset2.csv of dataset 2\n",
        "X_train2 = trainingDataSet2.iloc[:, :-1].values #input feature is the first columns of our .csv file\n",
        "y_train2 = trainingDataSet2.iloc[:, -1:].values #output is taken from the last column of the dataset"
      ],
      "execution_count": null,
      "outputs": []
    },
    {
      "cell_type": "code",
      "metadata": {
        "id": "2Vl4hlVa1g7W"
      },
      "source": [
        "testDataSet1 = pd.read_csv(path+'Test_Dataset1.csv', header = None) #read the test data from the Test_Dataset1.csv of dataset 1\n",
        "X_test1 = testDataSet1.iloc[:, :-1].values #input feature is the first columns of our .csv file\n",
        "y_test1 = testDataSet1.iloc[:, -1:].values #output is taken from the last column of the dataset"
      ],
      "execution_count": null,
      "outputs": []
    },
    {
      "cell_type": "code",
      "metadata": {
        "id": "0PVPcwhm7Hwg"
      },
      "source": [
        "testDataSet2 = pd.read_csv(path+'Test_Dataset2.csv', header = None) #read the test data from the Test_Dataset2.csv of dataset 2\n",
        "X_test2 = testDataSet2.iloc[:, :-1].values #input feature is the first columns of our .csv file\n",
        "y_test2 = testDataSet2.iloc[:, -1:].values #output is taken from the last column of the dataset"
      ],
      "execution_count": null,
      "outputs": []
    },
    {
      "cell_type": "markdown",
      "metadata": {
        "id": "X1YaJXa9dTJ3"
      },
      "source": [
        "## Global variables"
      ]
    },
    {
      "cell_type": "markdown",
      "metadata": {
        "id": "BIkKOiL_9wfc"
      },
      "source": [
        "Learning rates and number of nodes in hidden layer makes the hyperparameters. \n",
        "To tune the hyperparaeters, learning_rate1 and learning_rate2 were varied to learn the learning_rates. For the number of nodes in hidden layer, layer_sizes1[1] and layer_sizes1[2] were varied."
      ]
    },
    {
      "cell_type": "code",
      "metadata": {
        "id": "-xxk9xaUcvQ9"
      },
      "source": [
        "training_examples1 = X_train1.shape[0] #number of training examples in training dataset 1\n",
        "training_examples2 = X_train2.shape[0] #number of training examples in training dataset 2\n",
        "test_examples1 = X_test1.shape[0] #number of test examples in training dataset 1\n",
        "test_examples2 = X_test2.shape[0] #number of test examples in training dataset 2\n",
        "learning_rate1 = 0.00099 #learning rate for dataset 1\n",
        "layer_sizes1 = [1,5,1] #the three values correspond to number of nodes in input layer, hidden layer and output layer of dataset 1 repectively.\n",
        "learning_rate2 = 0.00005 #learning rate for dataset 2\n",
        "layer_sizes2 = [1,3,1] #the three values correspond to number of nodes in input layer, hidden layer and output layer of dataset 2 repectively."
      ],
      "execution_count": null,
      "outputs": []
    },
    {
      "cell_type": "code",
      "metadata": {
        "id": "n7HVoqIti_r_"
      },
      "source": [
        "np.random.seed(42) #setting the random seed to make sure the same output gets generated"
      ],
      "execution_count": null,
      "outputs": []
    },
    {
      "cell_type": "markdown",
      "metadata": {
        "id": "GpS8DskI8NgB"
      },
      "source": [
        "## Visualise training data"
      ]
    },
    {
      "cell_type": "code",
      "metadata": {
        "id": "Wy6d0QXIr_hZ",
        "colab": {
          "base_uri": "https://localhost:8080/",
          "height": 294
        },
        "outputId": "f0e16656-2182-42ff-ba03-a9d530b108cd"
      },
      "source": [
        "plt.scatter(X_train1,y_train1,color = 'green', label = 'DataSet1') #scatter plot the training data on dataset1\n",
        "plt.title('Train data | Dataset 1')\n",
        "plt.legend(loc=\"upper right\")\n",
        "plt.xlabel('x')\n",
        "plt.ylabel('y')\n",
        "plt.show()"
      ],
      "execution_count": null,
      "outputs": [
        {
          "output_type": "display_data",
          "data": {
            "image/png": "[encoded data removed]",
            "text/plain": [
              "<Figure size 432x288 with 1 Axes>"
            ]
          },
          "metadata": {
            "needs_background": "light"
          }
        }
      ]
    },
    {
      "cell_type": "code",
      "metadata": {
        "id": "gdYjDJUhE7L6",
        "colab": {
          "base_uri": "https://localhost:8080/",
          "height": 294
        },
        "outputId": "b5878561-6abd-405d-92c9-6b22fd442501"
      },
      "source": [
        "plt.scatter(X_train2,y_train2,color = 'red', label = 'DataSet2') #scatter plot the training data on dataset2\n",
        "plt.title('Train data | Dataset 2')\n",
        "plt.legend(loc=\"lower right\")\n",
        "plt.xlabel('x')\n",
        "plt.ylabel('y')\n",
        "plt.show()"
      ],
      "execution_count": null,
      "outputs": [
        {
          "output_type": "display_data",
          "data": {
            "image/png": "[encoded data removed]",
            "text/plain": [
              "<Figure size 432x288 with 1 Axes>"
            ]
          },
          "metadata": {
            "needs_background": "light"
          }
        }
      ]
    },
    {
      "cell_type": "markdown",
      "metadata": {
        "id": "_tjx3F10sTGm"
      },
      "source": [
        "## Normalize Dataset"
      ]
    },
    {
      "cell_type": "markdown",
      "metadata": {
        "id": "LHCVnv2mAq_q"
      },
      "source": [
        "Using minmax scalar to normalise the dataset. $$X_{norm} = \\frac{X_i - min(X)}{max(X) - min(X)}$$"
      ]
    },
    {
      "cell_type": "code",
      "metadata": {
        "id": "Kdme1ZhosW4m"
      },
      "source": [
        "def dataset_minmax(X): #function to calculate the minimum and maximum value of the column X\n",
        "  minmax = []\n",
        "  minn = min(X) #returns min of X\n",
        "  maxx = max(X) #returns max of X\n",
        "  minmax.append([minn, maxx])\n",
        "  return minmax # return both min and max\n",
        " "
      ],
      "execution_count": null,
      "outputs": []
    },
    {
      "cell_type": "code",
      "metadata": {
        "id": "kdqX-VC8sbKu"
      },
      "source": [
        "# Rescale dataset columns to the range 0-1\n",
        "def normalize_dataset(X, iterations, minmax):\n",
        "  X_norm = np.empty(X.shape) #creating an empty np.ndarray \n",
        "  for i in range(0, iterations): #normalise all training examples\n",
        "    X_norm[i] = (X[i] - minmax[0][0]) / (minmax[0][1] - minmax[0][0])\n",
        "  return X_norm #returning the normalized column"
      ],
      "execution_count": null,
      "outputs": []
    },
    {
      "cell_type": "code",
      "metadata": {
        "id": "ZWvNLOjhtX74"
      },
      "source": [
        "#normalizing training data of dataset1\n",
        "minmax_x1 = dataset_minmax(X_train1) \n",
        "X_train1_norm = normalize_dataset(X_train1, training_examples1, minmax_x1) \n",
        "\n",
        "#normalizing training data of dataset2\n",
        "minmax_x2 = dataset_minmax(X_train2)\n",
        "X_train2_norm = normalize_dataset(X_train2, training_examples2, minmax_x2)\n",
        "\n",
        "#normalizing test data of dataset1\n",
        "minmax_xt1 = dataset_minmax(X_test1)\n",
        "X_test1_norm = normalize_dataset(X_test1, test_examples1, minmax_xt1)\n",
        "\n",
        "#normalizing test data of dataset2\n",
        "minmax_xt2 = dataset_minmax(X_test2)\n",
        "X_test2_norm = normalize_dataset(X_test2, test_examples2, minmax_xt2)\n"
      ],
      "execution_count": null,
      "outputs": []
    },
    {
      "cell_type": "markdown",
      "metadata": {
        "id": "bb6jCOCQiAmP"
      },
      "source": [
        "## Building a neural network on the Training set"
      ]
    },
    {
      "cell_type": "markdown",
      "metadata": {
        "id": "Ajr-h0osOVLp"
      },
      "source": [
        "### Least Square Error"
      ]
    },
    {
      "cell_type": "markdown",
      "metadata": {
        "id": "Yfkull2jBil4"
      },
      "source": [
        "Using standard mean square error to compute the loss. $$MSE = \\frac{1}{n}\\sum (y_{true} - y_{pred})^2$$"
      ]
    },
    {
      "cell_type": "code",
      "metadata": {
        "id": "z7dhH97tOaAO"
      },
      "source": [
        "def mse(y, y_pred): #function to return the loss\n",
        "  loss = np.sum((y - y_pred)**2) / len(y)\n",
        "  return loss"
      ],
      "execution_count": null,
      "outputs": []
    },
    {
      "cell_type": "markdown",
      "metadata": {
        "id": "gHp4sVScT3Zf"
      },
      "source": [
        "### Sigmoid Function"
      ]
    },
    {
      "cell_type": "markdown",
      "metadata": {
        "id": "8XJA54DWCNxY"
      },
      "source": [
        "Using sigmoid function as the activation function. $$\\sigma (x) = \\frac{1}{1 + e^{-x}}$$"
      ]
    },
    {
      "cell_type": "code",
      "metadata": {
        "id": "yNrpBLd7T8do"
      },
      "source": [
        "def sigmoid(X): #function to compute sigmoid activation\n",
        "  return 1/(1+np.exp(-X))"
      ],
      "execution_count": null,
      "outputs": []
    },
    {
      "cell_type": "markdown",
      "metadata": {
        "id": "Ml3R3bkmWF3t"
      },
      "source": [
        "### Initialize parameters"
      ]
    },
    {
      "cell_type": "markdown",
      "metadata": {
        "id": "iQ_J58J9DVxX"
      },
      "source": [
        "Initialize the weights and the biases of the network. Using the random number generator to initialize the weights and the biases of the network."
      ]
    },
    {
      "cell_type": "code",
      "metadata": {
        "id": "h2KktagiWJ7W"
      },
      "source": [
        "def init(layerSizes): #function to initialize the weights and the biases\n",
        "  thetas = {} #dictionary to hold the values of all the weights and biases\n",
        "  for i in range (1, len(layerSizes)): # 2 iterations to initialize the weights and biases before and after the hidden layer\n",
        "    thetas['W'+ str(i)] = np.random.randn(layerSizes[i], layerSizes[i-1])*0.01 #first iteration, W1 = no of hidden nodes x 1; second iteration, W2 = 1 x no of hidden nodes (dimensions)\n",
        "    thetas['B'+ str(i)] = np.random.randn(layerSizes[i], 1)*0.01 #first iteration, B1 = no of hidden nodes x 1; second iteration, B2 = 1 x 1 (dimensions)\n",
        "  return thetas #return the initial weights and biases"
      ],
      "execution_count": null,
      "outputs": []
    },
    {
      "cell_type": "markdown",
      "metadata": {
        "id": "IPGgng6pXHOb"
      },
      "source": [
        "### Forward propagation"
      ]
    },
    {
      "cell_type": "markdown",
      "metadata": {
        "id": "m6DmIex8EnXH"
      },
      "source": [
        "Forward propagation involves 2 steps: performing linear combination of output from previous layer with the weights and biases ; and applying activation function on linear combination output."
      ]
    },
    {
      "cell_type": "code",
      "metadata": {
        "id": "CcMvGGYPXS4G"
      },
      "source": [
        "def forward_propagation(X, thetas): #function to return the numpy arrays of activations of all layers\n",
        "    layers = len(thetas)//2 #integer division; thetas contain 2 values for W and 2 values for B. We need to iterate only twice to update these 2 values. So taking half\n",
        "    values = {} #dictionary containining the numpy arrays of activations of all layers\n",
        "    for i in range(1, layers+1): # 2 iterations to update the weights and biases before and after the hidden layer\n",
        "        if i==1: #for the first hidden layer, linear combination with respect to input X and activation on the LC output\n",
        "            values['Z' + str(i)] = np.dot(thetas['W' + str(i)], X) + thetas['B' + str(i)] #storing LC output\n",
        "            values['A' + str(i)] = sigmoid(values['Z' + str(i)]) # storing Activation output\n",
        "        else: #for the other hidden layers, linear combination with respect to previous layers' output and activation on the LC output\n",
        "            values['Z' + str(i)] = np.dot(thetas['W' + str(i)], values['A' + str(i-1)]) + thetas['B' + str(i)]\n",
        "            if i==layers: # no sigmoid on the last layer. No any other activation because it is a regression problem\n",
        "                values['A' + str(i)] = values['Z' + str(i)]\n",
        "            else: #sigmoid for every other layer\n",
        "                values['A' + str(i)] = sigmoid(values['Z' + str(i)])\n",
        "    return values #return the learnt activations of all the layers."
      ],
      "execution_count": null,
      "outputs": []
    },
    {
      "cell_type": "markdown",
      "metadata": {
        "id": "NzgvVWczXIhD"
      },
      "source": [
        "### Compute cost using standard mean squared loss function"
      ]
    },
    {
      "cell_type": "markdown",
      "metadata": {
        "id": "o66yaEMTHaMd"
      },
      "source": [
        "Using standard mean square error to compute the loss. $$cost = \\frac{1}{n}\\sum (y_{true} - y_{pred})^2$$\n",
        "We have defined it again to be able to take y_pred value from values of forward propagation."
      ]
    },
    {
      "cell_type": "code",
      "metadata": {
        "id": "3z0mdn84ZPMk"
      },
      "source": [
        "def compute_cost(values, y_train): #takes true values and dictionary having activations of all layers as input and returns cost\n",
        "    layers = len(values)//2 #integer division; values contain 2 values for A and 2 values for Z. We need to iterate only twice to update these 2 values. So taking half\n",
        "    y_pred = values['A' + str(layers)] #predicted output is the activation output of the last layer\n",
        "    cost = 1/(len(y_train)) * np.sum(np.square(y_pred - y_train))\n",
        "    return cost #return the cost computed."
      ],
      "execution_count": null,
      "outputs": []
    },
    {
      "cell_type": "markdown",
      "metadata": {
        "id": "WsSKq24ZXJQT"
      },
      "source": [
        "### Back propagation"
      ]
    },
    {
      "cell_type": "markdown",
      "metadata": {
        "id": "HL96gCbFHpNT"
      },
      "source": [
        "Backward propagation involves traversing inwards from the output layer to update the weights and biases. The backpropagation formula for the hidden layers can be given as,\n",
        "$$\\delta_j = h'(a_j) \\sum_k w_{kj} \\delta_k$$\n",
        "However, for the output layer, it is\n",
        "$$\\delta_k = y_{pred} - y_{true}$$"
      ]
    },
    {
      "cell_type": "code",
      "metadata": {
        "id": "7IeUJmnoZ0z7"
      },
      "source": [
        "def backward_propagation(thetas, values, X, Y): #takes parameters, activations, training set as input and returns gradients wrt parameters\n",
        "    layers = len(thetas)//2 #integer division; thetas contain 2 values for W and 2 values for B. We need to iterate only twice to update these 2 values. So taking half\n",
        "    m = len(Y) #number of data points\n",
        "    grads = {} #dictionary to store the updated weights and biases\n",
        "    for i in range(layers,0,-1):  # 2 iterations to update the weights and biases before and after the hidden layer\n",
        "        if i==layers: #for the output layer dA = y_pred - y_true\n",
        "            dA = (values['A' + str(i)] - Y)\n",
        "            dZ = dA\n",
        "        else: #for other layers, calculate del with the formula mentioned above.\n",
        "            dA = np.dot(thetas['W' + str(i+1)].T, dZ)\n",
        "            dZ = np.multiply(dA, np.where(values['A' + str(i)]>=0, 1, 0))\n",
        "        if i==1: #no need to back propagate on input layer. For first hidden layer, update the gradient wrt X\n",
        "            grads['W' + str(i)] = np.dot(dZ, X.T)\n",
        "            grads['B' + str(i)] =  np.sum(dZ, axis=1, keepdims=True) #keepdims to make sure the output is a np.ndarray\n",
        "        else: #for the other hidden layers, update the gradient with respect to values from previous layers' forward propagation output\n",
        "            grads['W' + str(i)] =  np.dot(dZ,values['A' + str(i-1)].T)\n",
        "            grads['B' + str(i)] =  np.sum(dZ, axis=1, keepdims=True)\n",
        "    return grads #return the gradients with the updated weights and biases"
      ],
      "execution_count": null,
      "outputs": []
    },
    {
      "cell_type": "markdown",
      "metadata": {
        "id": "02FdPzksXKjr"
      },
      "source": [
        "### Gradient Descent"
      ]
    },
    {
      "cell_type": "markdown",
      "metadata": {
        "id": "jeaSUHsKKpMC"
      },
      "source": [
        "Performing gradient descent to update and learn the weights"
      ]
    },
    {
      "cell_type": "code",
      "metadata": {
        "id": "usIZokPNaanj"
      },
      "source": [
        "def gradient_descent(thetas, grads, learning_rate): #takes parameters, gradients and learning rate as input and returns updated parameters\n",
        "    layers = len(thetas)//2 #integer division; thetas contain 2 values for W and 2 values for B. We need to iterate only twice to update these 2 values. So taking half\n",
        "    thetas_updated = {} #dictionary to hold the values of all the updated weights and biases\n",
        "    for i in range(1,layers+1):  # 2 iterations to update the weights and biases before and after the hidden layer\n",
        "        thetas_updated['W' + str(i)] = thetas['W' + str(i)] - learning_rate * grads['W' + str(i)] #using the learning rate to update the weights and biases\n",
        "        thetas_updated['B' + str(i)] = thetas['B' + str(i)] - learning_rate * grads['B' + str(i)]\n",
        "    return thetas_updated #return the updated weights and biases"
      ],
      "execution_count": null,
      "outputs": []
    },
    {
      "cell_type": "markdown",
      "metadata": {
        "id": "Neoa-MiNbGq_"
      },
      "source": [
        "### Neural Network model "
      ]
    },
    {
      "cell_type": "code",
      "metadata": {
        "id": "l3vl54cZbRZA"
      },
      "source": [
        "def model(X, Y, layer_sizes, training_examples, learning_rate): #function to train the model\n",
        "    thetas = init(layer_sizes) #initialize the network\n",
        "    for i in range(training_examples): #for all training examples\n",
        "        values = forward_propagation(X.T, thetas) #perform forward propagation\n",
        "        cost = compute_cost(values, Y.T) #compute its cost\n",
        "        grads = backward_propagation(thetas, values, X.T, Y.T) # perform backward propagation\n",
        "        thetas = gradient_descent(thetas, grads, learning_rate) #update the weights and biases through gradient descent\n",
        "    return thetas #return the updated weights and biases"
      ],
      "execution_count": null,
      "outputs": []
    },
    {
      "cell_type": "code",
      "metadata": {
        "id": "FgJK6VbwhXba"
      },
      "source": [
        "thetas1 = model(X_train1_norm, y_train1, layer_sizes1, training_examples1, learning_rate1) #modelling dataset1"
      ],
      "execution_count": null,
      "outputs": []
    },
    {
      "cell_type": "code",
      "metadata": {
        "id": "H21jzmeNpSOH"
      },
      "source": [
        "thetas2 = model(X_train2, y_train2, layer_sizes2, training_examples2, learning_rate2) #modelling dataset2"
      ],
      "execution_count": null,
      "outputs": []
    },
    {
      "cell_type": "markdown",
      "metadata": {
        "id": "Qnn1JngpUhf8"
      },
      "source": [
        "## Predicting the results"
      ]
    },
    {
      "cell_type": "markdown",
      "metadata": {
        "id": "0JNzkBknLkwY"
      },
      "source": [
        "Using the final outputs from forward propagation with the learned thetas for prediction"
      ]
    },
    {
      "cell_type": "code",
      "metadata": {
        "id": "cI_ZOYIQUmqf"
      },
      "source": [
        "def predict(X, thetas):  #predict on new array X given learnt parameters\n",
        "    values = forward_propagation(X.T, thetas) #perform forward propagation with learned thetas\n",
        "    predictions = values['A' + str(len(values)//2)].T #the final layer output of forward propagation is the final prediction\n",
        "    return predictions #return the predicted values"
      ],
      "execution_count": null,
      "outputs": []
    },
    {
      "cell_type": "code",
      "metadata": {
        "id": "Fboc_aYOpeQc"
      },
      "source": [
        "#prediction on train data\n",
        "y_pred_train1 = predict(X_train1_norm, thetas1) #dataset 1\n",
        "y_pred_train2 = predict(X_train2, thetas2) #dataset 2"
      ],
      "execution_count": null,
      "outputs": []
    },
    {
      "cell_type": "code",
      "metadata": {
        "id": "curKW6uXpuId"
      },
      "source": [
        "#prediction on test data\n",
        "y_pred_test1 = predict(X_test1_norm, thetas1) #dataset 1\n",
        "y_pred_test2 = predict(X_test2, thetas2) #dataset 2"
      ],
      "execution_count": null,
      "outputs": []
    },
    {
      "cell_type": "markdown",
      "metadata": {
        "id": "I_dB04L-cUBA"
      },
      "source": [
        "## MSE on predicted values"
      ]
    },
    {
      "cell_type": "code",
      "metadata": {
        "id": "IJRVVIIMcq8Z",
        "colab": {
          "base_uri": "https://localhost:8080/"
        },
        "outputId": "19a649fe-ef44-4739-fd5f-1161a22575f8"
      },
      "source": [
        "#calculating training loss\n",
        "print(mse(y_train1, y_pred_train1)) #dataset 1\n",
        "print(mse(y_train2, y_pred_train2)) #dataset 2\n",
        "\n",
        "#calculating test loss\n",
        "print(mse(y_test1, y_pred_test1)) #dataset 1\n",
        "print(mse(y_test2, y_pred_test2)) #dataset 2"
      ],
      "execution_count": null,
      "outputs": [
        {
          "output_type": "stream",
          "name": "stdout",
          "text": [
            "0.15747556614802385\n",
            "0.1268654781477297\n",
            "0.14129373389378339\n",
            "0.03428398031457082\n"
          ]
        }
      ]
    },
    {
      "cell_type": "markdown",
      "metadata": {
        "id": "I_3r-ku26-MU"
      },
      "source": [
        "## Visualise prediction"
      ]
    },
    {
      "cell_type": "markdown",
      "metadata": {
        "id": "HX-eQad3Mxci"
      },
      "source": [
        "Common function to plot the test data along with its true output and predicted output"
      ]
    },
    {
      "cell_type": "code",
      "metadata": {
        "id": "HfLLxqXHeDQb"
      },
      "source": [
        "def plot_pred_data(X, y, y_pred,s,i):\n",
        "  plt.scatter(X, y, color = 'red', label = 'Input X') #scatter plot features\n",
        "  X_plot, y_plot = zip(*sorted(zip(X, y)))\n",
        "  plt.plot(X_plot, y_plot, color = 'blue', label = 'True value') #plotting true output\n",
        "  X_plot2, y_plot2 = zip(*sorted(zip(X, y_pred)))\n",
        "  plt.plot(X_plot2, y_plot2, color = 'green', label = 'Predicted value') #plot predicted output\n",
        "  plt.title('ANN on' + s + ' | Dataset  '+ str(i))\n",
        "  plt.legend(loc=\"upper right\")\n",
        "  plt.xlabel('x')\n",
        "  plt.ylabel('y')\n",
        "  plt.show()"
      ],
      "execution_count": null,
      "outputs": []
    },
    {
      "cell_type": "code",
      "metadata": {
        "id": "JomqmFh3fx-x",
        "colab": {
          "base_uri": "https://localhost:8080/",
          "height": 294
        },
        "outputId": "37999640-d903-4e57-cf28-61e9524c375b"
      },
      "source": [
        "plot_pred_data(X_train1, y_train1,y_pred_train1, ' train data | learning rate '+ str(learning_rate1) +','+ str(layer_sizes1[1]) + ' Hidden nodes', 1) #plot on training dataset 1"
      ],
      "execution_count": null,
      "outputs": [
        {
          "output_type": "display_data",
          "data": {
            "image/png": "[encoded data removed]",
            "text/plain": [
              "<Figure size 432x288 with 1 Axes>"
            ]
          },
          "metadata": {
            "needs_background": "light"
          }
        }
      ]
    },
    {
      "cell_type": "code",
      "metadata": {
        "id": "7Gvt2XufgumZ",
        "colab": {
          "base_uri": "https://localhost:8080/",
          "height": 294
        },
        "outputId": "6ccb4fc6-8c9c-415b-eed2-d622bc6a59a4"
      },
      "source": [
        "plot_pred_data(X_test1, y_test1,y_pred_test1,  ' test data | learning rate '+ str(learning_rate1) +','+ str(layer_sizes1[1]) + ' Hidden nodes', 1) #plot on test dataset 1"
      ],
      "execution_count": null,
      "outputs": [
        {
          "output_type": "display_data",
          "data": {
            "image/png": "[encoded data removed]",
            "text/plain": [
              "<Figure size 432x288 with 1 Axes>"
            ]
          },
          "metadata": {
            "needs_background": "light"
          }
        }
      ]
    },
    {
      "cell_type": "code",
      "metadata": {
        "id": "pGl0OzygmrQJ",
        "colab": {
          "base_uri": "https://localhost:8080/",
          "height": 294
        },
        "outputId": "7db22416-d828-49f5-9dba-4635fad162dc"
      },
      "source": [
        "plot_pred_data(X_train2, y_train2,y_pred_train2, ' train data | learning rate '+ str(learning_rate2) +','+ str(layer_sizes2[1]) + ' Hidden nodes', 2) #plot on train dataset2"
      ],
      "execution_count": null,
      "outputs": [
        {
          "output_type": "display_data",
          "data": {
            "image/png": "[encoded data removed]",
            "text/plain": [
              "<Figure size 432x288 with 1 Axes>"
            ]
          },
          "metadata": {
            "needs_background": "light"
          }
        }
      ]
    },
    {
      "cell_type": "code",
      "metadata": {
        "id": "0hUAztdomwOJ",
        "colab": {
          "base_uri": "https://localhost:8080/",
          "height": 294
        },
        "outputId": "ae81d508-4500-4fb4-d113-d3857ff444e1"
      },
      "source": [
        "plot_pred_data(X_test2, y_test2,y_pred_test2, ' test data | learning rate '+ str(learning_rate2) +','+ str(layer_sizes2[1]) + ' Hidden nodes', 2) #plot on test dataset2"
      ],
      "execution_count": null,
      "outputs": [
        {
          "output_type": "display_data",
          "data": {
            "image/png": "[encoded data removed]",
            "text/plain": [
              "<Figure size 432x288 with 1 Axes>"
            ]
          },
          "metadata": {
            "needs_background": "light"
          }
        }
      ]
    }
  ]
}