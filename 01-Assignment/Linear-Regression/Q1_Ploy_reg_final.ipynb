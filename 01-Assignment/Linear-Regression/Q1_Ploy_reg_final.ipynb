{
  "nbformat": 4,
  "nbformat_minor": 0,
  "metadata": {
    "colab": {
      "name": "Q1.Ploy_reg_final.ipynb",
      "provenance": [],
      "collapsed_sections": [
        "OSQ6LjcIGGfe",
        "JzgK2WvVG9xC",
        "qNUofeP6Lb5X",
        "vibOjty7Lgjd"
      ]
    },
    "kernelspec": {
      "name": "python3",
      "display_name": "Python 3"
    },
    "language_info": {
      "name": "python"
    }
  },
  "cells": [
    {
      "cell_type": "markdown",
      "metadata": {
        "id": "pP9csbWoMZXe"
      },
      "source": [
        "# Importing Libraries"
      ]
    },
    {
      "cell_type": "code",
      "metadata": {
        "id": "wt8pA-p1L77S",
        "colab": {
          "base_uri": "https://localhost:8080/"
        },
        "outputId": "518390f6-3cfa-44ee-a390-01e1d77d04a7"
      },
      "source": [
        "import numpy as np\n",
        "import matplotlib.pyplot as plt\n",
        "import pandas as pd\n",
        "import csv\n",
        "from google.colab import  drive\n",
        "drive.mount('/drive')\n",
        "# from google.colab import files"
      ],
      "execution_count": 1,
      "outputs": [
        {
          "output_type": "stream",
          "name": "stdout",
          "text": [
            "Drive already mounted at /drive; to attempt to forcibly remount, call drive.mount(\"/drive\", force_remount=True).\n"
          ]
        }
      ]
    },
    {
      "cell_type": "markdown",
      "metadata": {
        "id": "9cx-sLLoMoMa"
      },
      "source": [
        "# Import Data Sets"
      ]
    },
    {
      "cell_type": "code",
      "metadata": {
        "id": "2Nd4kAfkMzhk"
      },
      "source": [
        "trainingDataSet = pd.read_csv('linear_reg_train_data.csv')\n",
        "X_train = trainingDataSet.iloc[:, :-1].values\n",
        "Y_train = trainingDataSet.iloc[:, -1:].values"
      ],
      "execution_count": 2,
      "outputs": []
    },
    {
      "cell_type": "code",
      "metadata": {
        "id": "sgT_1eLCNN1x"
      },
      "source": [
        "testDataSet = pd.read_csv('linear_reg_test_data.csv')\n",
        "X_test = testDataSet.iloc[:, :-1].values\n",
        "Y_test = testDataSet.iloc[:, -1:].values"
      ],
      "execution_count": 3,
      "outputs": []
    },
    {
      "cell_type": "code",
      "metadata": {
        "id": "H-rI1nnQNnZx"
      },
      "source": [
        "X_train_copy = X_train.copy()\n",
        "X_test_copy = X_test.copy()"
      ],
      "execution_count": 4,
      "outputs": []
    },
    {
      "cell_type": "markdown",
      "metadata": {
        "id": "50Cck7lyN4eR"
      },
      "source": [
        "# Global variables"
      ]
    },
    {
      "cell_type": "code",
      "metadata": {
        "id": "IGprkEmQN8xB"
      },
      "source": [
        "degree = 12\n",
        "training_examples = X_train.shape[0]\n",
        "test_examples = X_test.shape[0]\n",
        "features = degree + 1\n",
        "lambda_rr = 5"
      ],
      "execution_count": 5,
      "outputs": []
    },
    {
      "cell_type": "markdown",
      "metadata": {
        "id": "Ajr-h0osOVLp"
      },
      "source": [
        "# Mean Square Error"
      ]
    },
    {
      "cell_type": "code",
      "metadata": {
        "id": "z7dhH97tOaAO"
      },
      "source": [
        "def mse(Y, Y_predicted):\n",
        "  cost = np.sum((Y - Y_predicted)**2) / len(Y)\n",
        "  return cost"
      ],
      "execution_count": 6,
      "outputs": []
    },
    {
      "cell_type": "markdown",
      "metadata": {
        "id": "XMMD3Vp3D2gO"
      },
      "source": [
        "# Write Into CSV"
      ]
    },
    {
      "cell_type": "code",
      "metadata": {
        "id": "TdnfUQklD7JO"
      },
      "source": [
        "def writeToCSV(path, data):\n",
        "  with open(path, 'w') as f:\n",
        "    writer = csv.writer(f)\n",
        "    for word in data:\n",
        "        writer.writerow(word)"
      ],
      "execution_count": 7,
      "outputs": []
    },
    {
      "cell_type": "markdown",
      "metadata": {
        "id": "-cct_sLsPBev"
      },
      "source": [
        "# Transform DataSet"
      ]
    },
    {
      "cell_type": "code",
      "metadata": {
        "id": "jGkZmO_aPGfp"
      },
      "source": [
        "def transform(X,examples):\n",
        "  X_copy = X;\n",
        "  for i in range(2,degree+1):\n",
        "    X = np.append(X, X_copy**i, axis = 1)\n",
        "  return X #Phi"
      ],
      "execution_count": 8,
      "outputs": []
    },
    {
      "cell_type": "code",
      "metadata": {
        "id": "x2ViNvQnPjEh"
      },
      "source": [
        "X_train_transformed = transform(X_train,training_examples)\n",
        "X_train_transformed = np.append(np.ones((training_examples,1)), X_train_transformed, axis = 1)"
      ],
      "execution_count": 9,
      "outputs": []
    },
    {
      "cell_type": "code",
      "metadata": {
        "id": "VAB5GpSKQoGv"
      },
      "source": [
        "X_test_transformed = transform(X_test,test_examples)\n",
        "X_test_transformed = np.append(np.ones((test_examples,1)), X_test_transformed, axis = 1)"
      ],
      "execution_count": 10,
      "outputs": []
    },
    {
      "cell_type": "markdown",
      "metadata": {
        "id": "jUjBRRbeAeLZ"
      },
      "source": [
        "# Predict function"
      ]
    },
    {
      "cell_type": "code",
      "metadata": {
        "id": "21Ek9c0BYY32"
      },
      "source": [
        "def predict(X,W):\n",
        "  return np.dot(X,W)"
      ],
      "execution_count": 11,
      "outputs": []
    },
    {
      "cell_type": "markdown",
      "metadata": {
        "id": "W2HDiJSuO7vg"
      },
      "source": [
        "# Learning model"
      ]
    },
    {
      "cell_type": "markdown",
      "metadata": {
        "id": "soJChRcVGCd6"
      },
      "source": [
        "## Normal Equation"
      ]
    },
    {
      "cell_type": "code",
      "metadata": {
        "id": "ThFJpNjMPAbo"
      },
      "source": [
        "def fit(X,Y):\n",
        "  # w = np.dot(np.linalg.inv(np.dot(X.T, X)), np.dot(X.T, Y))\n",
        "  # w = np.linalg.pinv(X.T @ X) @ X.T @ Y\n",
        "  w = np.dot(X.T, X) + 0 \n",
        "  w = np.linalg.inv(w)\n",
        "  w = np.dot(w, np.dot(X.T,Y))\n",
        "  return w"
      ],
      "execution_count": 12,
      "outputs": []
    },
    {
      "cell_type": "code",
      "metadata": {
        "id": "6tahwk5lTMZm"
      },
      "source": [
        "weights = fit(X_train_transformed, Y_train)"
      ],
      "execution_count": 13,
      "outputs": []
    },
    {
      "cell_type": "code",
      "metadata": {
        "colab": {
          "base_uri": "https://localhost:8080/"
        },
        "id": "-0b081gJGsBm",
        "outputId": "4232da4d-a364-4d36-85fc-0a491c48bca9"
      },
      "source": [
        "print(\"Weights\")\n",
        "print(weights)"
      ],
      "execution_count": 14,
      "outputs": [
        {
          "output_type": "stream",
          "name": "stdout",
          "text": [
            "Weights\n",
            "[[-3.88596135e+01]\n",
            " [ 1.89702731e+01]\n",
            " [-1.37157056e+01]\n",
            " [ 1.56973334e+01]\n",
            " [-1.09922116e+01]\n",
            " [ 4.51746934e+00]\n",
            " [-1.12414032e+00]\n",
            " [ 1.63294229e-01]\n",
            " [-1.09448216e-02]\n",
            " [-3.21290006e-04]\n",
            " [ 1.14580338e-04]\n",
            " [-7.81906160e-06]\n",
            " [ 1.86771742e-07]]\n"
          ]
        }
      ]
    },
    {
      "cell_type": "markdown",
      "metadata": {
        "id": "JzgK2WvVG9xC"
      },
      "source": [
        "## Ridge Regression"
      ]
    },
    {
      "cell_type": "code",
      "metadata": {
        "id": "N3vWzeooHBt_"
      },
      "source": [
        "def fit_ridge(X, Y):\n",
        "  w = np.dot(X.T, X) + lambda_rr * np.identity(degree + 1, dtype=None)\n",
        "  w = np.linalg.inv(w)\n",
        "  w = np.dot(w, np.dot(X.T,Y))\n",
        "  return w"
      ],
      "execution_count": 15,
      "outputs": []
    },
    {
      "cell_type": "code",
      "metadata": {
        "id": "gPMEbxTHI1Ga"
      },
      "source": [
        "weights_rr = fit_ridge(X_train_transformed, Y_train)"
      ],
      "execution_count": 16,
      "outputs": []
    },
    {
      "cell_type": "code",
      "metadata": {
        "colab": {
          "base_uri": "https://localhost:8080/"
        },
        "id": "Sr-u6KUheWSn",
        "outputId": "3dbd234f-e926-4ede-f9df-2f62c0d2b350"
      },
      "source": [
        "print(weights_rr)"
      ],
      "execution_count": 17,
      "outputs": [
        {
          "output_type": "stream",
          "name": "stdout",
          "text": [
            "[[ 8.74783269e-01]\n",
            " [ 7.96699614e-01]\n",
            " [ 6.59228830e-01]\n",
            " [ 3.41966623e-01]\n",
            " [-3.45704229e-02]\n",
            " [-1.87674751e-01]\n",
            " [ 6.09960267e-02]\n",
            " [ 4.75513828e-03]\n",
            " [-5.88465205e-03]\n",
            " [ 1.31438123e-03]\n",
            " [-1.41808349e-04]\n",
            " [ 7.73575383e-06]\n",
            " [-1.71260488e-07]]\n"
          ]
        }
      ]
    },
    {
      "cell_type": "markdown",
      "metadata": {
        "id": "2m7342RZYUMl"
      },
      "source": [
        "# Prediction"
      ]
    },
    {
      "cell_type": "markdown",
      "metadata": {
        "id": "4dXqF2FhLRRY"
      },
      "source": [
        "## Normal Equation"
      ]
    },
    {
      "cell_type": "code",
      "metadata": {
        "id": "0OGm78Cejz98"
      },
      "source": [
        "Y_pred_train = predict(X_train_transformed, weights)\n",
        "writeToCSV('/drive/My Drive/PRML/Assignment1/Q1/1a_train_cf.csv', Y_pred_train)"
      ],
      "execution_count": 18,
      "outputs": []
    },
    {
      "cell_type": "code",
      "metadata": {
        "id": "KXDZzYkxkXdp"
      },
      "source": [
        "Y_pred_test = predict(X_test_transformed, weights)\n",
        "writeToCSV('/drive/My Drive/PRML/Assignment1/Q1/1a_test_cf.csv', Y_pred_test)"
      ],
      "execution_count": 19,
      "outputs": []
    },
    {
      "cell_type": "code",
      "metadata": {
        "colab": {
          "base_uri": "https://localhost:8080/"
        },
        "id": "B8eF41U1eW6w",
        "outputId": "8d2fb8ca-56aa-4121-a3bf-d5eb45c98e38"
      },
      "source": [
        "print(degree)\n",
        "print(mse(Y_train, Y_pred_train))\n",
        "print(mse(Y_test, Y_pred_test))"
      ],
      "execution_count": 20,
      "outputs": [
        {
          "output_type": "stream",
          "name": "stdout",
          "text": [
            "12\n",
            "303.87961664338457\n",
            "133.64281538913875\n"
          ]
        }
      ]
    },
    {
      "cell_type": "markdown",
      "metadata": {
        "id": "vibOjty7Lgjd"
      },
      "source": [
        "## Ridge Regression"
      ]
    },
    {
      "cell_type": "code",
      "metadata": {
        "id": "0ogYWHHZKpYH"
      },
      "source": [
        "Y_pred_train_rr = predict(X_train_transformed, weights_rr)\n",
        "writeToCSV('/drive/My Drive/PRML/Assignment1/Q1/1a_train_rr.csv', Y_pred_train_rr)"
      ],
      "execution_count": 21,
      "outputs": []
    },
    {
      "cell_type": "code",
      "metadata": {
        "id": "ssGX6SQCKzz1"
      },
      "source": [
        "Y_pred_test_rr = predict(X_test_transformed, weights_rr)\n",
        "writeToCSV('/drive/My Drive/PRML/Assignment1/Q1/1a_test_rr.csv', Y_pred_test_rr)"
      ],
      "execution_count": 22,
      "outputs": []
    },
    {
      "cell_type": "code",
      "metadata": {
        "colab": {
          "base_uri": "https://localhost:8080/"
        },
        "id": "6PyGruJzgYbo",
        "outputId": "603a8a13-0aab-4dd1-c051-b678a7b7c84f"
      },
      "source": [
        "print(\"Ridge \" + str(degree))\n",
        "print(mse(Y_train, Y_pred_train_rr))\n",
        "print(mse(Y_test, Y_pred_test_rr))"
      ],
      "execution_count": 23,
      "outputs": [
        {
          "output_type": "stream",
          "name": "stdout",
          "text": [
            "Ridge 12\n",
            "0.14109580574055017\n",
            "0.8624368495445738\n"
          ]
        }
      ]
    },
    {
      "cell_type": "markdown",
      "metadata": {
        "id": "Vg6zp4Aikkv8"
      },
      "source": [
        "# Plot graphs"
      ]
    },
    {
      "cell_type": "markdown",
      "metadata": {
        "id": "_hZJlhTcLr-E"
      },
      "source": [
        "## Normal Equation"
      ]
    },
    {
      "cell_type": "code",
      "metadata": {
        "colab": {
          "base_uri": "https://localhost:8080/",
          "height": 295
        },
        "id": "I86X-1UzkojC",
        "outputId": "b484f75b-4ee3-494c-f2bc-c87501e1f788"
      },
      "source": [
        "plt.scatter(X_train_copy, Y_train, color = 'red', label = 'Input X')\n",
        "X_train_copy_plot, Y_pred_train_plot = zip(*sorted(zip(X_train_copy, Y_pred_train)))\n",
        "plt.plot(X_train_copy_plot, Y_pred_train_plot, color = 'blue', label = 'True value')\n",
        "X_test_copy_plot, Y_pred_test_plot = zip(*sorted(zip(X_test_copy, Y_pred_test)))\n",
        "plt.plot(X_test_copy_plot, Y_pred_test_plot, color = 'green', label = 'Predicted value')\n",
        "plt.title('Polynomial Regression using normal equation on train data| Degree = '+ str(degree))\n",
        "plt.legend(loc=\"upper right\")\n",
        "plt.xlabel('x')\n",
        "plt.ylabel('y')\n",
        "plt.show()"
      ],
      "execution_count": 24,
      "outputs": [
        {
          "output_type": "display_data",
          "data": {
            "image/png": "[encoded data removed]",
            "text/plain": [
              "<Figure size 432x288 with 1 Axes>"
            ]
          },
          "metadata": {
            "needs_background": "light"
          }
        }
      ]
    },
    {
      "cell_type": "code",
      "metadata": {
        "colab": {
          "base_uri": "https://localhost:8080/",
          "height": 295
        },
        "id": "_HqygzNpoIie",
        "outputId": "76847c8b-707a-4ac0-9e0c-16d86692a363"
      },
      "source": [
        "plt.scatter(X_test_copy, Y_test, color = 'red', label = 'Input X_test')\n",
        "X_train_copy_plot, Y_pred_train_plot = zip(*sorted(zip(X_train_copy, Y_pred_train)))\n",
        "plt.plot(X_train_copy_plot, Y_pred_train_plot, color = 'blue', label = 'True value')\n",
        "X_test_copy_plot, Y_pred_test_plot = zip(*sorted(zip(X_test_copy, Y_pred_test)))\n",
        "plt.plot(X_test_copy_plot, Y_pred_test_plot, color = 'green', label = 'Predicted value')\n",
        "plt.title('Polynomial Regression using normal equation on test data | Degree = '+ str(degree))\n",
        "plt.legend(loc=\"upper right\")\n",
        "plt.xlabel('x')\n",
        "plt.ylabel('y')\n",
        "plt.show()"
      ],
      "execution_count": 25,
      "outputs": [
        {
          "output_type": "display_data",
          "data": {
            "image/png": "[encoded data removed]",
            "text/plain": [
              "<Figure size 432x288 with 1 Axes>"
            ]
          },
          "metadata": {
            "needs_background": "light"
          }
        }
      ]
    },
    {
      "cell_type": "markdown",
      "metadata": {
        "id": "OH9YE-CQQKvB"
      },
      "source": [
        "## Ridge Regression"
      ]
    },
    {
      "cell_type": "code",
      "metadata": {
        "colab": {
          "base_uri": "https://localhost:8080/",
          "height": 295
        },
        "id": "-0AV3TB7QOaA",
        "outputId": "d5ea0700-9831-4977-ca26-86971ece09bd"
      },
      "source": [
        "plt.scatter(X_train_copy, Y_train, color = 'red', label = 'Input X')\n",
        "X_train_copy_plot, Y_pred_train_rr_plot = zip(*sorted(zip(X_train_copy, Y_pred_train_rr)))\n",
        "plt.plot(X_train_copy_plot, Y_pred_train_rr_plot, color = 'blue', label = 'True value')\n",
        "X_test_copy_plot, Y_pred_test_rr_plot = zip(*sorted(zip(X_test_copy, Y_pred_test_rr)))\n",
        "plt.plot(X_test_copy_plot, Y_pred_test_rr_plot, color = 'green', label = 'Predicted value')\n",
        "plt.title('Polynomial Regression using Ridge Regression on train data| Degree = '+ str(degree))\n",
        "plt.legend(loc=\"upper right\")\n",
        "plt.xlabel('x')\n",
        "plt.ylabel('y')\n",
        "plt.show()"
      ],
      "execution_count": 26,
      "outputs": [
        {
          "output_type": "display_data",
          "data": {
            "image/png": "[encoded data removed]",
            "text/plain": [
              "<Figure size 432x288 with 1 Axes>"
            ]
          },
          "metadata": {
            "needs_background": "light"
          }
        }
      ]
    },
    {
      "cell_type": "code",
      "metadata": {
        "colab": {
          "base_uri": "https://localhost:8080/",
          "height": 295
        },
        "id": "oqGQ9FFCRAg7",
        "outputId": "497e7d5e-0f28-4da8-a961-9520bacc5f57"
      },
      "source": [
        "plt.scatter(X_test_copy, Y_test, color = 'red', label = 'Input X_test')\n",
        "X_train_copy_plot, Y_pred_train_rr_plot = zip(*sorted(zip(X_train_copy, Y_pred_train_rr)))\n",
        "plt.plot(X_train_copy_plot, Y_pred_train_rr_plot, color = 'blue', label = 'True value')\n",
        "X_test_copy_plot, Y_pred_test_rr_plot = zip(*sorted(zip(X_test_copy, Y_pred_test_rr)))\n",
        "plt.plot(X_test_copy_plot, Y_pred_test_rr_plot, color = 'green', label = 'Predicted value')\n",
        "plt.title('Polynomial Regression using ridge regression on test data | Degree = '+ str(degree))\n",
        "plt.legend(loc=\"upper right\")\n",
        "plt.xlabel('x')\n",
        "plt.ylabel('y')\n",
        "plt.show()"
      ],
      "execution_count": 27,
      "outputs": [
        {
          "output_type": "display_data",
          "data": {
            "image/png": "[encoded data removed]",
            "text/plain": [
              "<Figure size 432x288 with 1 Axes>"
            ]
          },
          "metadata": {
            "needs_background": "light"
          }
        }
      ]
    }
  ]
}